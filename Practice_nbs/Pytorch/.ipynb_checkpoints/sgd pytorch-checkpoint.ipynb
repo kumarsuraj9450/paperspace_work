{
 "cells": [
  {
   "cell_type": "code",
   "execution_count": 108,
   "metadata": {},
   "outputs": [],
   "source": [
    "import torch"
   ]
  },
  {
   "cell_type": "code",
   "execution_count": 110,
   "metadata": {},
   "outputs": [],
   "source": [
    "dataset_size=1000"
   ]
  },
  {
   "cell_type": "code",
   "execution_count": 111,
   "metadata": {},
   "outputs": [
    {
     "data": {
      "text/plain": [
       "tensor([0.9811])"
      ]
     },
     "execution_count": 111,
     "metadata": {},
     "output_type": "execute_result"
    }
   ],
   "source": [
    "torch.rand((1))"
   ]
  },
  {
   "cell_type": "code",
   "execution_count": 245,
   "metadata": {},
   "outputs": [],
   "source": [
    "x=torch.ones(dataset_size,2)"
   ]
  },
  {
   "cell_type": "code",
   "execution_count": 246,
   "metadata": {},
   "outputs": [],
   "source": [
    "x[:,1]=torch.rand((dataset_size))*100"
   ]
  },
  {
   "cell_type": "code",
   "execution_count": 247,
   "metadata": {},
   "outputs": [],
   "source": [
    "parm=torch.tensor([[3.],[2.]])"
   ]
  },
  {
   "cell_type": "code",
   "execution_count": 248,
   "metadata": {},
   "outputs": [],
   "source": [
    "y=(x@parm)+torch.rand((dataset_size,1))*25"
   ]
  },
  {
   "cell_type": "code",
   "execution_count": 249,
   "metadata": {},
   "outputs": [],
   "source": [
    "import matplotlib.pyplot as plt"
   ]
  },
  {
   "cell_type": "code",
   "execution_count": 250,
   "metadata": {},
   "outputs": [],
   "source": [
    "x=(x-x.min())/(x.max()-x.min())\n",
    "y=(y-y.min())/(y.max()-y.min())\n",
    "# x=(x-x.mean())/x.std()\n",
    "# y=(y-y.mean())/y.std()\n"
   ]
  },
  {
   "cell_type": "code",
   "execution_count": 251,
   "metadata": {},
   "outputs": [],
   "source": [
    " %matplotlib inline"
   ]
  },
  {
   "cell_type": "code",
   "execution_count": 252,
   "metadata": {},
   "outputs": [
    {
     "data": {
      "text/plain": [
       "[<matplotlib.lines.Line2D at 0x7f79954761d0>]"
      ]
     },
     "execution_count": 252,
     "metadata": {},
     "output_type": "execute_result"
    },
    {
     "data": {
      "image/png": "[encoded data removed]",
      "text/plain": [
       "<Figure size 432x288 with 1 Axes>"
      ]
     },
     "metadata": {
      "needs_background": "light"
     },
     "output_type": "display_data"
    }
   ],
   "source": [
    "plt.plot(x[:,1].numpy(),y.numpy(),'*r')"
   ]
  },
  {
   "cell_type": "markdown",
   "metadata": {},
   "source": [
    "def loss(y_pred,y_act):\n",
    "    return (((y_pred-y_act)**2).mean()**(1/2))"
   ]
  },
  {
   "cell_type": "code",
   "execution_count": 253,
   "metadata": {},
   "outputs": [],
   "source": [
    "loss=torch.nn.MSELoss()\n",
    "# loss=torch.nn.CosineEmbeddingLoss()"
   ]
  },
  {
   "cell_type": "code",
   "execution_count": 254,
   "metadata": {},
   "outputs": [],
   "source": [
    "test_parm=torch.nn.Parameter(torch.rand(2,1))"
   ]
  },
  {
   "cell_type": "code",
   "execution_count": 255,
   "metadata": {},
   "outputs": [
    {
     "data": {
      "text/plain": [
       "tensor(0.0795, grad_fn=<MseLossBackward>)"
      ]
     },
     "execution_count": 255,
     "metadata": {},
     "output_type": "execute_result"
    }
   ],
   "source": [
    "loss(x@test_parm,y)"
   ]
  },
  {
   "cell_type": "code",
   "execution_count": 280,
   "metadata": {},
   "outputs": [
    {
     "name": "stdout",
     "output_type": "stream",
     "text": [
      "loss =>  tensor(0.0011, device='cuda:0', grad_fn=<MseLossBackward>)\n"
     ]
    }
   ],
   "source": [
    "epoch=900\n",
    "lr=1e-3\n",
    "\n",
    "class model(torch.nn.Module):\n",
    "    def __init__(self):\n",
    "        super().__init__()\n",
    "        self.first=torch.nn.Linear(1 ,100)\n",
    "        self.second=torch.nn.Linear(100,100)\n",
    "        self.third=torch.nn.Linear(100,100)\n",
    "        self.fourth=torch.nn.Linear(100,100)\n",
    "        self.fifth=torch.nn.Linear(100,100)\n",
    "        self.sixth=torch.nn.Linear(100,100)\n",
    "        self.seventh=torch.nn.Linear(100,100)\n",
    "        self.eight=torch.nn.Linear(100,100)\n",
    "        self.ninth=torch.nn.Linear(100,1)\n",
    "        \n",
    "    def forward(self,x):\n",
    "        res1=self.first(x).relu()\n",
    "        res2=self.second(res1).relu()\n",
    "        res3=self.third(res2).relu()\n",
    "        res4=self.fourth(res3).relu()\n",
    "        res5=self.fifth(res4).relu()\n",
    "        res6=self.sixth(res5).relu()\n",
    "        res7=self.seventh(res6).relu()\n",
    "        res8=self.eight(res7).relu()\n",
    "        res9=self.ninth(res8)\n",
    "        return res9\n",
    "\n",
    "obj=model().cuda()\n",
    "\n",
    "opt=torch.optim.Adam(obj.parameters(),lr=lr,weight_decay=1e-4)\n",
    "\n",
    "\n",
    "for _ in range(epoch):\n",
    "    y_pred=obj(x[:,1].cuda().view(dataset_size,-1))\n",
    "    loss_to_optimise=loss(y_pred,y.cuda())\n",
    "    opt.zero_grad()\n",
    "    loss_to_optimise.backward()\n",
    "    opt.step()    \n",
    "    \n",
    "print(\"loss => \",loss(obj(x[:,1].cuda().view(dataset_size ,-1)),y.cuda()))"
   ]
  },
  {
   "cell_type": "code",
   "execution_count": 279,
   "metadata": {},
   "outputs": [
    {
     "data": {
      "text/plain": [
       "[<matplotlib.lines.Line2D at 0x7f7994a17a20>,\n",
       " <matplotlib.lines.Line2D at 0x7f7994a17b70>]"
      ]
     },
     "execution_count": 279,
     "metadata": {},
     "output_type": "execute_result"
    },
    {
     "data": {
      "image/png": "[encoded data removed]",
      "text/plain": [
       "<Figure size 432x288 with 1 Axes>"
      ]
     },
     "metadata": {
      "needs_background": "light"
     },
     "output_type": "display_data"
    }
   ],
   "source": [
    "plt.plot(obj(x[:,1].cuda().view(dataset_size ,-1)).cpu().detach().numpy(),y.cpu().detach().numpy(),'r-',x[:,1].numpy(),y.numpy())"
   ]
  },
  {
   "cell_type": "code",
   "execution_count": null,
   "metadata": {},
   "outputs": [],
   "source": [
    "plt.plot(x[:,1].numpy(),y.numpy())"
   ]
  },
  {
   "cell_type": "code",
   "execution_count": null,
   "metadata": {},
   "outputs": [],
   "source": []
  }
 ],
 "metadata": {
  "kernelspec": {
   "display_name": "Python 3",
   "language": "python",
   "name": "python3"
  },
  "language_info": {
   "codemirror_mode": {
    "name": "ipython",
    "version": 3
   },
   "file_extension": ".py",
   "mimetype": "text/x-python",
   "name": "python",
   "nbconvert_exporter": "python",
   "pygments_lexer": "ipython3",
   "version": "3.6.7"
  }
 },
 "nbformat": 4,
 "nbformat_minor": 2
}
