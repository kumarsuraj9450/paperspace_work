{
 "cells": [
  {
   "cell_type": "code",
   "execution_count": 1,
   "metadata": {},
   "outputs": [],
   "source": [
    "import torch"
   ]
  },
  {
   "cell_type": "code",
   "execution_count": 64,
   "metadata": {},
   "outputs": [],
   "source": [
    "dataset_size=5000"
   ]
  },
  {
   "cell_type": "code",
   "execution_count": 65,
   "metadata": {},
   "outputs": [
    {
     "data": {
      "text/plain": [
       "tensor([0.1161])"
      ]
     },
     "execution_count": 65,
     "metadata": {},
     "output_type": "execute_result"
    }
   ],
   "source": [
    "torch.rand((1))"
   ]
  },
  {
   "cell_type": "code",
   "execution_count": 66,
   "metadata": {},
   "outputs": [],
   "source": [
    "x=torch.ones(dataset_size,2)"
   ]
  },
  {
   "cell_type": "code",
   "execution_count": 67,
   "metadata": {},
   "outputs": [
    {
     "data": {
      "text/plain": [
       "tensor([[-3.3769],\n",
       "        [ 9.8707]])"
      ]
     },
     "execution_count": 67,
     "metadata": {},
     "output_type": "execute_result"
    }
   ],
   "source": [
    "torch.zeros(2,1).uniform_(-10,10)"
   ]
  },
  {
   "cell_type": "code",
   "execution_count": 68,
   "metadata": {},
   "outputs": [],
   "source": [
    "x[:,1]=torch.zeros(dataset_size).uniform_(-10,10)"
   ]
  },
  {
   "cell_type": "code",
   "execution_count": 69,
   "metadata": {},
   "outputs": [
    {
     "data": {
      "text/plain": [
       "tensor([[ 1.0000, -4.7242],\n",
       "        [ 1.0000,  3.6377],\n",
       "        [ 1.0000,  8.0648],\n",
       "        ...,\n",
       "        [ 1.0000,  7.9054],\n",
       "        [ 1.0000, -8.0568],\n",
       "        [ 1.0000,  8.9812]])"
      ]
     },
     "execution_count": 69,
     "metadata": {},
     "output_type": "execute_result"
    }
   ],
   "source": [
    "x"
   ]
  },
  {
   "cell_type": "code",
   "execution_count": 70,
   "metadata": {},
   "outputs": [],
   "source": [
    "parm=torch.tensor([[3.],[2.]])"
   ]
  },
  {
   "cell_type": "code",
   "execution_count": 71,
   "metadata": {},
   "outputs": [],
   "source": [
    "y=(x@parm)+torch.rand((dataset_size,1))*25"
   ]
  },
  {
   "cell_type": "code",
   "execution_count": 72,
   "metadata": {},
   "outputs": [],
   "source": [
    "import matplotlib.pyplot as plt"
   ]
  },
  {
   "cell_type": "code",
   "execution_count": 73,
   "metadata": {},
   "outputs": [],
   "source": [
    "x=(x-x.min())/(x.max()-x.min())\n",
    "y=(y-y.min())/(y.max()-y.min())\n",
    "# x=(x-x.mean())/x.std()\n",
    "# y=(y-y.mean())/y.std()\n"
   ]
  },
  {
   "cell_type": "code",
   "execution_count": 74,
   "metadata": {},
   "outputs": [],
   "source": [
    " %matplotlib inline"
   ]
  },
  {
   "cell_type": "code",
   "execution_count": 75,
   "metadata": {},
   "outputs": [
    {
     "data": {
      "text/plain": [
       "[<matplotlib.lines.Line2D at 0x7f50c17e8390>]"
      ]
     },
     "execution_count": 75,
     "metadata": {},
     "output_type": "execute_result"
    },
    {
     "data": {
      "image/png": "[encoded data removed]",
      "text/plain": [
       "<Figure size 432x288 with 1 Axes>"
      ]
     },
     "metadata": {
      "needs_background": "light"
     },
     "output_type": "display_data"
    }
   ],
   "source": [
    "plt.plot(x[:,1].numpy(),y.numpy(),'*r')"
   ]
  },
  {
   "cell_type": "markdown",
   "metadata": {},
   "source": [
    "def loss(y_pred,y_act):\n",
    "    return (((y_pred-y_act)**2).mean()**(1/2))"
   ]
  },
  {
   "cell_type": "code",
   "execution_count": 76,
   "metadata": {},
   "outputs": [],
   "source": [
    "loss=torch.nn.MSELoss()\n",
    "# loss=torch.nn.CosineEmbeddingLoss()"
   ]
  },
  {
   "cell_type": "code",
   "execution_count": 77,
   "metadata": {},
   "outputs": [],
   "source": [
    "test_parm=torch.nn.Parameter(torch.rand(2,1))"
   ]
  },
  {
   "cell_type": "code",
   "execution_count": 78,
   "metadata": {},
   "outputs": [
    {
     "data": {
      "text/plain": [
       "tensor(0.1478, grad_fn=<MseLossBackward>)"
      ]
     },
     "execution_count": 78,
     "metadata": {},
     "output_type": "execute_result"
    }
   ],
   "source": [
    "loss(x@test_parm,y)"
   ]
  },
  {
   "cell_type": "code",
   "execution_count": 85,
   "metadata": {},
   "outputs": [
    {
     "name": "stdout",
     "output_type": "stream",
     "text": [
      "loss =>  tensor(0.0132, device='cuda:0', grad_fn=<MseLossBackward>)\n"
     ]
    }
   ],
   "source": [
    "epoch=700\n",
    "lr=9e-3\n",
    "\n",
    "class model(torch.nn.Module):\n",
    "    def __init__(self):\n",
    "        super().__init__()\n",
    "        self.first=torch.nn.Linear(1 ,100)\n",
    "        self.second=torch.nn.Linear(100,100)\n",
    "        self.third=torch.nn.Linear(100,100)\n",
    "        self.fourth=torch.nn.Linear(100,100)\n",
    "        self.fifth=torch.nn.Linear(100,100)\n",
    "        self.sixth=torch.nn.Linear(100,100)\n",
    "        self.seventh=torch.nn.Linear(100,100)\n",
    "        self.eight=torch.nn.Linear(100,100)\n",
    "        self.ninth=torch.nn.Linear(100,1)\n",
    "        \n",
    "    def forward(self,x):\n",
    "        res1=self.first(x).relu()\n",
    "        res2=self.second(res1).relu()\n",
    "        res3=self.third(res2).relu()\n",
    "        res4=self.fourth(res3).relu()\n",
    "        res5=self.fifth(res4).relu()\n",
    "        res6=self.sixth(res5).relu()\n",
    "        res7=self.seventh(res6).relu()\n",
    "        res8=self.eight(res7).relu()\n",
    "        res9=self.ninth(res8)\n",
    "        return res9\n",
    "\n",
    "obj=model().cuda()\n",
    "\n",
    "opt=torch.optim.Adam(obj.parameters(),lr=lr,weight_decay=1e-4)\n",
    "\n",
    "\n",
    "for _ in range(epoch):\n",
    "    y_pred=obj(x[:,1].cuda().view(dataset_size,-1))\n",
    "    loss_to_optimise=loss(y_pred,y.cuda())\n",
    "    opt.zero_grad()\n",
    "    loss_to_optimise.backward()\n",
    "    opt.step()    \n",
    "    \n",
    "print(\"loss => \",loss(obj(x[:,1].cuda().view(dataset_size ,-1)),y.cuda()))"
   ]
  },
  {
   "cell_type": "code",
   "execution_count": 86,
   "metadata": {},
   "outputs": [
    {
     "data": {
      "text/plain": [
       "[<matplotlib.lines.Line2D at 0x7f50c16e30b8>,\n",
       " <matplotlib.lines.Line2D at 0x7f50c16e3240>]"
      ]
     },
     "execution_count": 86,
     "metadata": {},
     "output_type": "execute_result"
    },
    {
     "data": {
      "image/png": "[encoded data removed]",
      "text/plain": [
       "<Figure size 432x288 with 1 Axes>"
      ]
     },
     "metadata": {
      "needs_background": "light"
     },
     "output_type": "display_data"
    }
   ],
   "source": [
    "plt.plot(obj(x[:,1].cuda().view(dataset_size ,-1)).cpu().detach().numpy(),y.cpu().detach().numpy(),'r-',x[:,1].numpy(),y.numpy())"
   ]
  },
  {
   "cell_type": "code",
   "execution_count": null,
   "metadata": {},
   "outputs": [],
   "source": []
  }
 ],
 "metadata": {
  "kernelspec": {
   "display_name": "Python 3",
   "language": "python",
   "name": "python3"
  },
  "language_info": {
   "codemirror_mode": {
    "name": "ipython",
    "version": 3
   },
   "file_extension": ".py",
   "mimetype": "text/x-python",
   "name": "python",
   "nbconvert_exporter": "python",
   "pygments_lexer": "ipython3",
   "version": "3.6.10"
  },
  "toc": {
   "base_numbering": 1,
   "nav_menu": {},
   "number_sections": true,
   "sideBar": true,
   "skip_h1_title": false,
   "title_cell": "Table of Contents",
   "title_sidebar": "Contents",
   "toc_cell": false,
   "toc_position": {},
   "toc_section_display": true,
   "toc_window_display": false
  },
  "varInspector": {
   "cols": {
    "lenName": 16,
    "lenType": 16,
    "lenVar": 40
   },
   "kernels_config": {
    "python": {
     "delete_cmd_postfix": "",
     "delete_cmd_prefix": "del ",
     "library": "var_list.py",
     "varRefreshCmd": "print(var_dic_list())"
    },
    "r": {
     "delete_cmd_postfix": ") ",
     "delete_cmd_prefix": "rm(",
     "library": "var_list.r",
     "varRefreshCmd": "cat(var_dic_list()) "
    }
   },
   "types_to_exclude": [
    "module",
    "function",
    "builtin_function_or_method",
    "instance",
    "_Feature"
   ],
   "window_display": false
  }
 },
 "nbformat": 4,
 "nbformat_minor": 2
}
